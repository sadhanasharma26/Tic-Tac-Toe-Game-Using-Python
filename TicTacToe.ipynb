{
  "nbformat": 4,
  "nbformat_minor": 0,
  "metadata": {
    "colab": {
      "name": "Untitled0.ipynb",
      "provenance": [],
      "collapsed_sections": []
    },
    "kernelspec": {
      "name": "python3",
      "display_name": "Python 3"
    },
    "language_info": {
      "name": "python"
    }
  },
  "cells": [
    {
      "cell_type": "code",
      "execution_count": null,
      "metadata": {
        "colab": {
          "base_uri": "https://localhost:8080/"
        },
        "id": "LTgE4TgFQHQS",
        "outputId": "16d44726-76d8-4590-b645-63e34a1694ec"
      },
      "outputs": [
        {
          "output_type": "stream",
          "name": "stdout",
          "text": [
            "Welcome to Tic-Tac-Toe!\n",
            "  |  |  \n",
            "__________\n",
            "  |  |  \n",
            "__________\n",
            "  |  |  \n"
          ]
        }
      ],
      "source": [
        "import os\n",
        "os.system(\"clear\")\n",
        "\n",
        "class Board():\n",
        "    def __init__(self):\n",
        "       self.cells = [\"\", \"\", \"\", \"\", \"\", \"\", \"\", \"\", \"\", \"\"]\n",
        "\n",
        "    def display(self):\n",
        "        print(\" %s | %s | %s \" %(self.cells[1], self.cells[2], self.cells[3]))\n",
        "        print('__________')\n",
        "        print(\" %s | %s | %s \" % (self.cells[4], self.cells[5], self.cells[6]))\n",
        "        print('__________')\n",
        "        print(\" %s | %s | %s \" % (self.cells[7], self.cells[8], self.cells[9]))\n",
        "\n",
        "    def update_cell(self, cell_no, player):\n",
        "        if self.cells[cell_no] == \"\":\n",
        "            self.cells[cell_no] = player\n",
        "\n",
        "    def is_winner(self, player):\n",
        "        for i in range(10):\n",
        "                    if i == 1 or i == 4 or i == 7:\n",
        "                        if self.cells[i] == player and self.cells[i+1] == player and self.cells[i+2] == player: #horizontal\n",
        "                            return True\n",
        "\n",
        "                    if i == 1 or i == 2 or i == 3:\n",
        "                        if self.cells[i] == player and self.cells[i+3] == player and self.cells[i+6] == player: #vertical\n",
        "                            return True\n",
        "                    if i == 1:\n",
        "                         if self.cells[i] == player and self.cells[i+4] == player and self.cells[i+8] == player: #diagonal\n",
        "                            return True\n",
        "                    if i == 3:\n",
        "                        if self.cells[i] == player and self.cells[i+2] == player and self.cells[i+4] == player: #diagonal\n",
        "                            return True\n",
        "    def reset(self):\n",
        "             self.cells = [\"\", \"\", \"\", \"\", \"\", \"\", \"\", \"\", \"\", \"\"]\n",
        "\n",
        "board = Board()\n",
        "\n",
        "def print_header():\n",
        "    print(\"Welcome to Tic-Tac-Toe!\")\n",
        "\n",
        "def refresh_screen():\n",
        "    os.system(\"clear\")\n",
        "    print_header()\n",
        "    board.display()\n",
        "\n",
        "\n",
        "while True:\n",
        "    refresh_screen()\n",
        "    #get X input\n",
        "    x_choice = int(input(\"X Please choose 1-9 =>\"))\n",
        "    #Update board\n",
        "    board.update_cell(x_choice, \"X\")\n",
        "\n",
        "    # Refresh Screen\n",
        "    refresh_screen()\n",
        "    if board.is_winner(\"X\"):\n",
        "        print(\" X Wins!\")\n",
        "        play_again = input(\"Would you like to play again? (Y/N) => \").upper().startswith('Y')\n",
        "        if play_again == \"Y\":\n",
        "            board.reset()\n",
        "            continue\n",
        "        else:\n",
        "            break\n",
        "    # get o input\n",
        "    o_choice = int(input(\"O Please choose 1-9 =>\"))\n",
        "    # Update board\n",
        "    board.update_cell(o_choice, \"O\")\n",
        "    refresh_screen()\n",
        "    if board.is_winner(\"O\"):\n",
        "       print(\"\\n O Wins! \\n\")\n",
        "       play_again = input(\"Would you like to play again? (Y/N) > \").upper().startswith('Y')\n",
        "       if play_again == \"Y\":\n",
        "           continue\n",
        "       else:\n",
        "           break"
      ]
    }
  ]
}